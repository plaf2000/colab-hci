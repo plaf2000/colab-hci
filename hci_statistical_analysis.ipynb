{
  "cells": [
    {
      "cell_type": "markdown",
      "metadata": {
        "colab_type": "text",
        "id": "view-in-github"
      },
      "source": [
        "<a href=\"https://colab.research.google.com/github/plaf2000/colab-hci/blob/main/hci_statistical_analysis.ipynb\" target=\"_parent\"><img src=\"https://colab.research.google.com/assets/colab-badge.svg\" alt=\"Open In Colab\"/></a>"
      ]
    },
    {
      "cell_type": "code",
      "execution_count": 3,
      "metadata": {
        "id": "T5n4H3v9059U"
      },
      "outputs": [],
      "source": [
        "import matplotlib.pyplot as plt\n",
        "import scipy\n",
        "import numpy as np\n",
        "import pandas as pd\n",
        "import seaborn as sns"
      ]
    },
    {
      "cell_type": "code",
      "execution_count": 4,
      "metadata": {
        "colab": {
          "base_uri": "https://localhost:8080/",
          "height": 858
        },
        "id": "cndrCkYc1hwc",
        "outputId": "10a95b61-9682-4106-8418-c881c9022178"
      },
      "outputs": [
        {
          "data": {
            "text/html": [
              "<div>\n",
              "<style scoped>\n",
              "    .dataframe tbody tr th:only-of-type {\n",
              "        vertical-align: middle;\n",
              "    }\n",
              "\n",
              "    .dataframe tbody tr th {\n",
              "        vertical-align: top;\n",
              "    }\n",
              "\n",
              "    .dataframe thead th {\n",
              "        text-align: right;\n",
              "    }\n",
              "</style>\n",
              "<table border=\"1\" class=\"dataframe\">\n",
              "  <thead>\n",
              "    <tr style=\"text-align: right;\">\n",
              "      <th></th>\n",
              "      <th>user_id</th>\n",
              "      <th>user_age</th>\n",
              "      <th>field_of_study</th>\n",
              "      <th>coding_experience</th>\n",
              "      <th>coding_languages</th>\n",
              "      <th>coding_frequency</th>\n",
              "      <th>sus_score_A</th>\n",
              "      <th>sus_score_B</th>\n",
              "      <th>personal_score_A</th>\n",
              "      <th>personal_score_B</th>\n",
              "      <th>preferred_interface</th>\n",
              "      <th>clicks_A1</th>\n",
              "      <th>clicks_A2</th>\n",
              "      <th>clicks_B1</th>\n",
              "      <th>clicks_B2</th>\n",
              "      <th>time_A1</th>\n",
              "      <th>time_A2</th>\n",
              "      <th>time_B1</th>\n",
              "      <th>time_B2</th>\n",
              "    </tr>\n",
              "  </thead>\n",
              "  <tbody>\n",
              "    <tr>\n",
              "      <th>0</th>\n",
              "      <td>2</td>\n",
              "      <td>22</td>\n",
              "      <td>Computer Science</td>\n",
              "      <td>&lt; 6 years</td>\n",
              "      <td>Java, Python</td>\n",
              "      <td>2-3 times a week</td>\n",
              "      <td>90.0</td>\n",
              "      <td>75.0</td>\n",
              "      <td>NaN</td>\n",
              "      <td>NaN</td>\n",
              "      <td>A</td>\n",
              "      <td>34</td>\n",
              "      <td>40</td>\n",
              "      <td>65</td>\n",
              "      <td>51</td>\n",
              "      <td>107</td>\n",
              "      <td>147</td>\n",
              "      <td>144</td>\n",
              "      <td>101</td>\n",
              "    </tr>\n",
              "    <tr>\n",
              "      <th>1</th>\n",
              "      <td>3</td>\n",
              "      <td>22</td>\n",
              "      <td>Computer Science</td>\n",
              "      <td>&lt; 6 years</td>\n",
              "      <td>Java, C, Rust, Haskell, Ocaml</td>\n",
              "      <td>Daily</td>\n",
              "      <td>82.5</td>\n",
              "      <td>82.5</td>\n",
              "      <td>NaN</td>\n",
              "      <td>NaN</td>\n",
              "      <td>B</td>\n",
              "      <td>41</td>\n",
              "      <td>33</td>\n",
              "      <td>55</td>\n",
              "      <td>48</td>\n",
              "      <td>99</td>\n",
              "      <td>84</td>\n",
              "      <td>95</td>\n",
              "      <td>91</td>\n",
              "    </tr>\n",
              "    <tr>\n",
              "      <th>2</th>\n",
              "      <td>4</td>\n",
              "      <td>20</td>\n",
              "      <td>Computer Science</td>\n",
              "      <td>&gt; 6 years</td>\n",
              "      <td>C, Rust, Haskell, Ocaml</td>\n",
              "      <td>Daily</td>\n",
              "      <td>70.0</td>\n",
              "      <td>75.0</td>\n",
              "      <td>NaN</td>\n",
              "      <td>NaN</td>\n",
              "      <td>B</td>\n",
              "      <td>42</td>\n",
              "      <td>26</td>\n",
              "      <td>55</td>\n",
              "      <td>41</td>\n",
              "      <td>109</td>\n",
              "      <td>73</td>\n",
              "      <td>97</td>\n",
              "      <td>74</td>\n",
              "    </tr>\n",
              "    <tr>\n",
              "      <th>3</th>\n",
              "      <td>5</td>\n",
              "      <td>20</td>\n",
              "      <td>Computer Science</td>\n",
              "      <td>&lt; 6 years</td>\n",
              "      <td>Java</td>\n",
              "      <td>Daily</td>\n",
              "      <td>62.5</td>\n",
              "      <td>65.0</td>\n",
              "      <td>NaN</td>\n",
              "      <td>NaN</td>\n",
              "      <td>A</td>\n",
              "      <td>94</td>\n",
              "      <td>59</td>\n",
              "      <td>59</td>\n",
              "      <td>64</td>\n",
              "      <td>113</td>\n",
              "      <td>91</td>\n",
              "      <td>89</td>\n",
              "      <td>97</td>\n",
              "    </tr>\n",
              "    <tr>\n",
              "      <th>4</th>\n",
              "      <td>6</td>\n",
              "      <td>58</td>\n",
              "      <td>Machine Engineering</td>\n",
              "      <td>No</td>\n",
              "      <td>No</td>\n",
              "      <td>No</td>\n",
              "      <td>42.5</td>\n",
              "      <td>60.0</td>\n",
              "      <td>NaN</td>\n",
              "      <td>NaN</td>\n",
              "      <td>B</td>\n",
              "      <td>125</td>\n",
              "      <td>47</td>\n",
              "      <td>83</td>\n",
              "      <td>105</td>\n",
              "      <td>342</td>\n",
              "      <td>130</td>\n",
              "      <td>134</td>\n",
              "      <td>149</td>\n",
              "    </tr>\n",
              "    <tr>\n",
              "      <th>5</th>\n",
              "      <td>7</td>\n",
              "      <td>55</td>\n",
              "      <td>Childcare</td>\n",
              "      <td>No</td>\n",
              "      <td>No</td>\n",
              "      <td>No</td>\n",
              "      <td>62.5</td>\n",
              "      <td>70.0</td>\n",
              "      <td>NaN</td>\n",
              "      <td>NaN</td>\n",
              "      <td>A</td>\n",
              "      <td>64</td>\n",
              "      <td>44</td>\n",
              "      <td>124</td>\n",
              "      <td>63</td>\n",
              "      <td>185</td>\n",
              "      <td>112</td>\n",
              "      <td>394</td>\n",
              "      <td>178</td>\n",
              "    </tr>\n",
              "    <tr>\n",
              "      <th>6</th>\n",
              "      <td>8</td>\n",
              "      <td>20</td>\n",
              "      <td>Carpeneter EFZ</td>\n",
              "      <td>No</td>\n",
              "      <td>No</td>\n",
              "      <td>No</td>\n",
              "      <td>75.0</td>\n",
              "      <td>75.0</td>\n",
              "      <td>NaN</td>\n",
              "      <td>NaN</td>\n",
              "      <td>B</td>\n",
              "      <td>50</td>\n",
              "      <td>38</td>\n",
              "      <td>84</td>\n",
              "      <td>65</td>\n",
              "      <td>174</td>\n",
              "      <td>76</td>\n",
              "      <td>144</td>\n",
              "      <td>84</td>\n",
              "    </tr>\n",
              "    <tr>\n",
              "      <th>7</th>\n",
              "      <td>9</td>\n",
              "      <td>22</td>\n",
              "      <td>Robotics, System and Control</td>\n",
              "      <td>&lt; 3 years</td>\n",
              "      <td>Python, Matlab, Fortran</td>\n",
              "      <td>2-3 times a week</td>\n",
              "      <td>77.5</td>\n",
              "      <td>70.0</td>\n",
              "      <td>NaN</td>\n",
              "      <td>NaN</td>\n",
              "      <td>B</td>\n",
              "      <td>117</td>\n",
              "      <td>134</td>\n",
              "      <td>88</td>\n",
              "      <td>73</td>\n",
              "      <td>438</td>\n",
              "      <td>258</td>\n",
              "      <td>158</td>\n",
              "      <td>109</td>\n",
              "    </tr>\n",
              "    <tr>\n",
              "      <th>8</th>\n",
              "      <td>10</td>\n",
              "      <td>22</td>\n",
              "      <td>Biology</td>\n",
              "      <td>&lt; 1 year</td>\n",
              "      <td>Python</td>\n",
              "      <td>Less (or never)</td>\n",
              "      <td>95.0</td>\n",
              "      <td>87.5</td>\n",
              "      <td>NaN</td>\n",
              "      <td>NaN</td>\n",
              "      <td>A</td>\n",
              "      <td>52</td>\n",
              "      <td>36</td>\n",
              "      <td>86</td>\n",
              "      <td>65</td>\n",
              "      <td>98</td>\n",
              "      <td>76</td>\n",
              "      <td>155</td>\n",
              "      <td>101</td>\n",
              "    </tr>\n",
              "    <tr>\n",
              "      <th>9</th>\n",
              "      <td>11</td>\n",
              "      <td>55</td>\n",
              "      <td>Chief Finance Officer</td>\n",
              "      <td>&lt; 3 years</td>\n",
              "      <td>Java, Python</td>\n",
              "      <td>Less (or never)</td>\n",
              "      <td>100.0</td>\n",
              "      <td>100.0</td>\n",
              "      <td>NaN</td>\n",
              "      <td>NaN</td>\n",
              "      <td>A</td>\n",
              "      <td>74</td>\n",
              "      <td>79</td>\n",
              "      <td>71</td>\n",
              "      <td>70</td>\n",
              "      <td>174</td>\n",
              "      <td>161</td>\n",
              "      <td>177</td>\n",
              "      <td>173</td>\n",
              "    </tr>\n",
              "    <tr>\n",
              "      <th>10</th>\n",
              "      <td>12</td>\n",
              "      <td>23</td>\n",
              "      <td>Robotics, System and Control</td>\n",
              "      <td>&lt; 3 years</td>\n",
              "      <td>Python</td>\n",
              "      <td>Weekly</td>\n",
              "      <td>82.5</td>\n",
              "      <td>85.0</td>\n",
              "      <td>NaN</td>\n",
              "      <td>NaN</td>\n",
              "      <td>A</td>\n",
              "      <td>62</td>\n",
              "      <td>43</td>\n",
              "      <td>96</td>\n",
              "      <td>64</td>\n",
              "      <td>134</td>\n",
              "      <td>96</td>\n",
              "      <td>191</td>\n",
              "      <td>164</td>\n",
              "    </tr>\n",
              "    <tr>\n",
              "      <th>11</th>\n",
              "      <td>13</td>\n",
              "      <td>18</td>\n",
              "      <td>Matura</td>\n",
              "      <td>No</td>\n",
              "      <td>No</td>\n",
              "      <td>No</td>\n",
              "      <td>90.0</td>\n",
              "      <td>97.5</td>\n",
              "      <td>NaN</td>\n",
              "      <td>NaN</td>\n",
              "      <td>B</td>\n",
              "      <td>45</td>\n",
              "      <td>43</td>\n",
              "      <td>66</td>\n",
              "      <td>43</td>\n",
              "      <td>113</td>\n",
              "      <td>107</td>\n",
              "      <td>91</td>\n",
              "      <td>62</td>\n",
              "    </tr>\n",
              "    <tr>\n",
              "      <th>12</th>\n",
              "      <td>14</td>\n",
              "      <td>22</td>\n",
              "      <td>Agricultural Science</td>\n",
              "      <td>&lt; 1 year</td>\n",
              "      <td>Python</td>\n",
              "      <td>Less (or never)</td>\n",
              "      <td>70.0</td>\n",
              "      <td>82.5</td>\n",
              "      <td>NaN</td>\n",
              "      <td>NaN</td>\n",
              "      <td>B</td>\n",
              "      <td>56</td>\n",
              "      <td>37</td>\n",
              "      <td>70</td>\n",
              "      <td>55</td>\n",
              "      <td>131</td>\n",
              "      <td>66</td>\n",
              "      <td>163</td>\n",
              "      <td>102</td>\n",
              "    </tr>\n",
              "    <tr>\n",
              "      <th>13</th>\n",
              "      <td>15</td>\n",
              "      <td>22</td>\n",
              "      <td>Electrical engineering</td>\n",
              "      <td>&lt; 6 years</td>\n",
              "      <td>Python, C, Verilog, Matlab</td>\n",
              "      <td>2-3 times a week</td>\n",
              "      <td>65.0</td>\n",
              "      <td>65.0</td>\n",
              "      <td>NaN</td>\n",
              "      <td>NaN</td>\n",
              "      <td>A</td>\n",
              "      <td>52</td>\n",
              "      <td>42</td>\n",
              "      <td>114</td>\n",
              "      <td>94</td>\n",
              "      <td>91</td>\n",
              "      <td>62</td>\n",
              "      <td>213</td>\n",
              "      <td>203</td>\n",
              "    </tr>\n",
              "    <tr>\n",
              "      <th>14</th>\n",
              "      <td>16</td>\n",
              "      <td>22</td>\n",
              "      <td>Computer Science</td>\n",
              "      <td>&lt; 6 years</td>\n",
              "      <td>Java, Python, C++, C, Haskell</td>\n",
              "      <td>Daily</td>\n",
              "      <td>80.0</td>\n",
              "      <td>80.0</td>\n",
              "      <td>NaN</td>\n",
              "      <td>NaN</td>\n",
              "      <td>A</td>\n",
              "      <td>52</td>\n",
              "      <td>27</td>\n",
              "      <td>70</td>\n",
              "      <td>35</td>\n",
              "      <td>110</td>\n",
              "      <td>54</td>\n",
              "      <td>141</td>\n",
              "      <td>57</td>\n",
              "    </tr>\n",
              "    <tr>\n",
              "      <th>15</th>\n",
              "      <td>17</td>\n",
              "      <td>23</td>\n",
              "      <td>Computer Science</td>\n",
              "      <td>&lt; 6 years</td>\n",
              "      <td>Java, Ocaml</td>\n",
              "      <td>Daily</td>\n",
              "      <td>52.5</td>\n",
              "      <td>45.0</td>\n",
              "      <td>NaN</td>\n",
              "      <td>NaN</td>\n",
              "      <td>A</td>\n",
              "      <td>41</td>\n",
              "      <td>33</td>\n",
              "      <td>80</td>\n",
              "      <td>46</td>\n",
              "      <td>165</td>\n",
              "      <td>104</td>\n",
              "      <td>170</td>\n",
              "      <td>126</td>\n",
              "    </tr>\n",
              "  </tbody>\n",
              "</table>\n",
              "</div>"
            ],
            "text/plain": [
              "    user_id  user_age                field_of_study coding_experience  \\\n",
              "0         2        22              Computer Science         < 6 years   \n",
              "1         3        22              Computer Science         < 6 years   \n",
              "2         4        20              Computer Science         > 6 years   \n",
              "3         5        20              Computer Science         < 6 years   \n",
              "4         6        58           Machine Engineering                No   \n",
              "5         7        55                     Childcare                No   \n",
              "6         8        20                Carpeneter EFZ                No   \n",
              "7         9        22  Robotics, System and Control         < 3 years   \n",
              "8        10        22                       Biology          < 1 year   \n",
              "9        11        55         Chief Finance Officer         < 3 years   \n",
              "10       12        23  Robotics, System and Control         < 3 years   \n",
              "11       13        18                        Matura                No   \n",
              "12       14        22         Agricultural Science           < 1 year   \n",
              "13       15        22        Electrical engineering         < 6 years   \n",
              "14       16        22              Computer Science         < 6 years   \n",
              "15       17        23              Computer Science         < 6 years   \n",
              "\n",
              "                 coding_languages  coding_frequency  sus_score_A  sus_score_B  \\\n",
              "0                    Java, Python  2-3 times a week         90.0         75.0   \n",
              "1   Java, C, Rust, Haskell, Ocaml             Daily         82.5         82.5   \n",
              "2         C, Rust, Haskell, Ocaml             Daily         70.0         75.0   \n",
              "3                            Java             Daily         62.5         65.0   \n",
              "4                              No                No         42.5         60.0   \n",
              "5                              No                No         62.5         70.0   \n",
              "6                              No                No         75.0         75.0   \n",
              "7         Python, Matlab, Fortran  2-3 times a week         77.5         70.0   \n",
              "8                          Python   Less (or never)         95.0         87.5   \n",
              "9                    Java, Python   Less (or never)        100.0        100.0   \n",
              "10                         Python            Weekly         82.5         85.0   \n",
              "11                             No                No         90.0         97.5   \n",
              "12                         Python   Less (or never)         70.0         82.5   \n",
              "13     Python, C, Verilog, Matlab  2-3 times a week         65.0         65.0   \n",
              "14  Java, Python, C++, C, Haskell             Daily         80.0         80.0   \n",
              "15                    Java, Ocaml             Daily         52.5         45.0   \n",
              "\n",
              "    personal_score_A  personal_score_B preferred_interface  clicks_A1  \\\n",
              "0                NaN               NaN                   A         34   \n",
              "1                NaN               NaN                   B         41   \n",
              "2                NaN               NaN                   B         42   \n",
              "3                NaN               NaN                   A         94   \n",
              "4                NaN               NaN                   B        125   \n",
              "5                NaN               NaN                   A         64   \n",
              "6                NaN               NaN                   B         50   \n",
              "7                NaN               NaN                   B        117   \n",
              "8                NaN               NaN                   A         52   \n",
              "9                NaN               NaN                   A         74   \n",
              "10               NaN               NaN                   A         62   \n",
              "11               NaN               NaN                   B         45   \n",
              "12               NaN               NaN                   B         56   \n",
              "13               NaN               NaN                   A         52   \n",
              "14               NaN               NaN                   A         52   \n",
              "15               NaN               NaN                   A         41   \n",
              "\n",
              "    clicks_A2  clicks_B1  clicks_B2  time_A1  time_A2  time_B1  time_B2  \n",
              "0          40         65         51      107      147      144      101  \n",
              "1          33         55         48       99       84       95       91  \n",
              "2          26         55         41      109       73       97       74  \n",
              "3          59         59         64      113       91       89       97  \n",
              "4          47         83        105      342      130      134      149  \n",
              "5          44        124         63      185      112      394      178  \n",
              "6          38         84         65      174       76      144       84  \n",
              "7         134         88         73      438      258      158      109  \n",
              "8          36         86         65       98       76      155      101  \n",
              "9          79         71         70      174      161      177      173  \n",
              "10         43         96         64      134       96      191      164  \n",
              "11         43         66         43      113      107       91       62  \n",
              "12         37         70         55      131       66      163      102  \n",
              "13         42        114         94       91       62      213      203  \n",
              "14         27         70         35      110       54      141       57  \n",
              "15         33         80         46      165      104      170      126  "
            ]
          },
          "execution_count": 4,
          "metadata": {},
          "output_type": "execute_result"
        }
      ],
      "source": [
        "# TODO: Read data\n",
        "df = pd.read_csv('hci_user_study_raw.csv')  \n",
        "df['sus_score_A'], df['sus_score_B'] = pd.to_numeric(df['sus_score_A']), pd.to_numeric(df['sus_score_B'])\n",
        "df"
      ]
    },
    {
      "cell_type": "markdown",
      "metadata": {
        "id": "AMYOVDfhvvuT"
      },
      "source": [
        "# Demographic visualization"
      ]
    },
    {
      "cell_type": "code",
      "execution_count": 5,
      "metadata": {
        "colab": {
          "base_uri": "https://localhost:8080/",
          "height": 317
        },
        "id": "Tt5sUcVzvrc4",
        "outputId": "fc8570eb-b8b2-4e6a-abfb-4eb12941de9a"
      },
      "outputs": [
        {
          "data": {
            "text/plain": [
              "(array([4., 9., 0., 0., 0., 0., 0., 0., 0., 3.]),\n",
              " array([18., 22., 26., 30., 34., 38., 42., 46., 50., 54., 58.]),\n",
              " <BarContainer object of 10 artists>)"
            ]
          },
          "execution_count": 5,
          "metadata": {},
          "output_type": "execute_result"
        },
        {
          "data": {
            "image/png": "[encoded data removed]",
            "text/plain": [
              "<Figure size 432x288 with 1 Axes>"
            ]
          },
          "metadata": {
            "needs_background": "light"
          },
          "output_type": "display_data"
        }
      ],
      "source": [
        "# Age and field of study\n",
        "plt.hist(df['user_age'])\n",
        "# Coding experience\n",
        "\n",
        "\n"
      ]
    },
    {
      "cell_type": "code",
      "execution_count": 6,
      "metadata": {
        "colab": {
          "base_uri": "https://localhost:8080/",
          "height": 509
        },
        "id": "8kJHrGaIn2QG",
        "outputId": "dc89cc39-336b-445e-baf8-eb77670af5d2"
      },
      "outputs": [
        {
          "data": {
            "text/plain": [
              "([<matplotlib.patches.Wedge at 0x7fa019667ee0>,\n",
              "  <matplotlib.patches.Wedge at 0x7fa019690670>,\n",
              "  <matplotlib.patches.Wedge at 0x7fa019690d90>,\n",
              "  <matplotlib.patches.Wedge at 0x7fa0196914b0>,\n",
              "  <matplotlib.patches.Wedge at 0x7fa019691bd0>],\n",
              " [Text(0.42095177560159885, 1.0162674857624154, '< 6 years'),\n",
              "  Text(-1.1, 1.3471114790620887e-16, 'No'),\n",
              "  Text(-0.21459935421774154, -1.0788638084435533, '< 3 years'),\n",
              "  Text(0.7778174593052022, -0.7778174593052025, '< 1 year'),\n",
              "  Text(1.0788638084435533, -0.21459935421774162, '> 6 years')],\n",
              " [Text(0.22961005941905388, 0.5543277195067721, '37.5%'),\n",
              "  Text(-0.6, 7.347880794884119e-17, '25.0%'),\n",
              "  Text(-0.1170541932096772, -0.5884711682419381, '18.8%'),\n",
              "  Text(0.4242640687119284, -0.4242640687119286, '12.5%'),\n",
              "  Text(0.5884711682419381, -0.11705419320967722, '6.2%')])"
            ]
          },
          "execution_count": 6,
          "metadata": {},
          "output_type": "execute_result"
        },
        {
          "data": {
            "image/png": "[encoded data removed]",
            "text/plain": [
              "<Figure size 432x288 with 1 Axes>"
            ]
          },
          "metadata": {},
          "output_type": "display_data"
        }
      ],
      "source": [
        "plt.pie(df['coding_experience'].value_counts(), labels=df['coding_experience'].value_counts().index, autopct='%1.1f%%')\n",
        "#coding = df.rename(columns = {'coding_experience':'Coding Experience', 'coding_languages':'Coding Languages', 'coding_frequency':'Coding Frequency'})[['Coding Experience', 'Coding Languages', 'Coding Frequency']]\n",
        "#coding.plot.pie(subplots=True)"
      ]
    },
    {
      "cell_type": "markdown",
      "metadata": {
        "id": "OG42IxDjyol7"
      },
      "source": [
        "# Data visualization"
      ]
    },
    {
      "cell_type": "code",
      "execution_count": 7,
      "metadata": {
        "colab": {
          "base_uri": "https://localhost:8080/",
          "height": 352
        },
        "id": "5xTnskdL0n86",
        "outputId": "8c47f9ce-e574-45d0-acbb-8dcb08bc6dac"
      },
      "outputs": [
        {
          "data": {
            "text/plain": [
              "([<matplotlib.patches.Wedge at 0x7fa0194f4e80>,\n",
              "  <matplotlib.patches.Wedge at 0x7fa0194f55a0>],\n",
              " [Text(-0.21459935421774104, 1.0788638084435536, 'A'),\n",
              "  Text(0.21459935421774115, -1.0788638084435536, 'B')],\n",
              " [Text(-0.11705419320967692, 0.5884711682419382, '56.2%'),\n",
              "  Text(0.11705419320967697, -0.5884711682419382, '43.8%')])"
            ]
          },
          "execution_count": 7,
          "metadata": {},
          "output_type": "execute_result"
        },
        {
          "data": {
            "image/png": "[encoded data removed]",
            "text/plain": [
              "<Figure size 432x288 with 1 Axes>"
            ]
          },
          "metadata": {},
          "output_type": "display_data"
        }
      ],
      "source": [
        "# Preferred interface\n",
        "#df.rename(columns = {'preferred_interface':'Preferred Interface'}).plot.pie(y='Preferred Interface', figsize=(5,5))\n",
        "plt.pie(df['preferred_interface'].value_counts(), labels=df['preferred_interface'].value_counts().index, autopct='%1.1f%%')\n",
        "#coding = df.rename(columns = {'coding_experience':'Coding Experience', 'coding_languages':'Coding Languages', 'coding_frequency':'Coding Frequency'})[['Coding Experience', 'Coding Languages', 'Coding Frequency']]\n",
        "#coding.plot.pie(subplots=True)"
      ]
    },
    {
      "cell_type": "code",
      "execution_count": 8,
      "metadata": {
        "colab": {
          "base_uri": "https://localhost:8080/",
          "height": 543
        },
        "id": "zKdtLTMZylNN",
        "outputId": "856e01bc-4e17-4cf6-bc53-0b3fb8b33037"
      },
      "outputs": [
        {
          "data": {
            "image/png": "[encoded data removed]",
            "text/plain": [
              "<Figure size 432x288 with 2 Axes>"
            ]
          },
          "metadata": {
            "needs_background": "light"
          },
          "output_type": "display_data"
        },
        {
          "data": {
            "image/png": "[encoded data removed]",
            "text/plain": [
              "<Figure size 432x288 with 2 Axes>"
            ]
          },
          "metadata": {
            "needs_background": "light"
          },
          "output_type": "display_data"
        }
      ],
      "source": [
        "# Sus score\n",
        "x = df['sus_score_A']\n",
        "f, (ax_box, ax_hist) = plt.subplots(2, sharex=True, gridspec_kw={\"height_ratios\": (.15, .85)})\n",
        "\n",
        "sns.boxplot(x=x, ax=ax_box)\n",
        "sns.histplot(x=x, bins=12, kde=True, stat='count', ax=ax_hist)\n",
        "\n",
        "ax_box.set(yticks=[])\n",
        "sns.despine(ax=ax_hist)\n",
        "sns.despine(ax=ax_box, left=True)\n",
        "\n",
        "x = df['sus_score_B']\n",
        "f, (ax_box, ax_hist) = plt.subplots(2, sharex=True, gridspec_kw={\"height_ratios\": (.15, .85)})\n",
        "\n",
        "sns.boxplot(x=x, ax=ax_box)\n",
        "sns.histplot(x=x, bins=12, kde=True, stat='count', ax=ax_hist)\n",
        "\n",
        "ax_box.set(yticks=[])\n",
        "sns.despine(ax=ax_hist)\n",
        "sns.despine(ax=ax_box, left=True)"
      ]
    },
    {
      "cell_type": "code",
      "execution_count": 9,
      "metadata": {
        "colab": {
          "base_uri": "https://localhost:8080/",
          "height": 545
        },
        "id": "7Y-er3lbOTTK",
        "outputId": "3655fd43-0702-4787-a054-53bac6c33f25"
      },
      "outputs": [
        {
          "data": {
            "image/png": "[encoded data removed]",
            "text/plain": [
              "<Figure size 432x288 with 1 Axes>"
            ]
          },
          "metadata": {
            "needs_background": "light"
          },
          "output_type": "display_data"
        },
        {
          "data": {
            "image/png": "[encoded data removed]",
            "text/plain": [
              "<Figure size 432x288 with 1 Axes>"
            ]
          },
          "metadata": {
            "needs_background": "light"
          },
          "output_type": "display_data"
        }
      ],
      "source": [
        "# Number of clicks\n",
        "bins = np.linspace(30, 130, 10) # Range of clicks\n",
        "# Task 1\n",
        "x = df['clicks_A1']\n",
        "y = df['clicks_B1']\n",
        "plt.hist(x, bins, alpha=0.5, label='Interface A')\n",
        "plt.hist(y, bins, alpha=0.5, label='Interface B')\n",
        "plt.legend(loc='upper right')\n",
        "plt.title('Number of mouse clicks - Task 1')\n",
        "plt.show()\n",
        "# Task 2\n",
        "x = df['clicks_A2']\n",
        "y = df['clicks_B2']\n",
        "plt.hist(x, bins, alpha=0.5, label='Interface A')\n",
        "plt.hist(y, bins, alpha=0.5, label='Interface B')\n",
        "plt.legend(loc='upper right')\n",
        "plt.title('Number of mouse clicks - Task 2')\n",
        "plt.show()"
      ]
    },
    {
      "cell_type": "code",
      "execution_count": 10,
      "metadata": {
        "colab": {
          "base_uri": "https://localhost:8080/",
          "height": 545
        },
        "id": "V9r7OeSvP0_j",
        "outputId": "4207bfd9-af38-4523-d17e-d863559b3149"
      },
      "outputs": [
        {
          "data": {
            "image/png": "[encoded data removed]",
            "text/plain": [
              "<Figure size 432x288 with 1 Axes>"
            ]
          },
          "metadata": {
            "needs_background": "light"
          },
          "output_type": "display_data"
        },
        {
          "data": {
            "image/png": "[encoded data removed]",
            "text/plain": [
              "<Figure size 432x288 with 1 Axes>"
            ]
          },
          "metadata": {
            "needs_background": "light"
          },
          "output_type": "display_data"
        }
      ],
      "source": [
        "# Time \n",
        "bins = np.linspace(60, 400, 10) # Range of time\n",
        "# Task 1\n",
        "x = df['time_A1']\n",
        "y = df['time_B1']\n",
        "plt.hist(x, bins, alpha=0.5, label='Interface A')\n",
        "plt.hist(y, bins, alpha=0.5, label='Interface B')\n",
        "plt.legend(loc='upper right')\n",
        "plt.title('Time taken to complete (in seconds) - Task 1')\n",
        "plt.show()\n",
        "bins = np.linspace(60, 180, 10) # Range of time\n",
        "# Task 2\n",
        "x = df['time_A2']\n",
        "y = df['time_B2']\n",
        "plt.hist(x, bins, alpha=0.5, label='Interface A')\n",
        "plt.hist(y, bins, alpha=0.5, label='Interface B')\n",
        "plt.legend(loc='upper right')\n",
        "plt.title('Time taken to complete (in seconds) - Task 2')\n",
        "plt.show()"
      ]
    },
    {
      "cell_type": "markdown",
      "metadata": {
        "id": "wHe1HDnHv0EU"
      },
      "source": [
        "# Statistical Analysis"
      ]
    },
    {
      "cell_type": "code",
      "execution_count": 11,
      "metadata": {
        "id": "kihyBoXm1msr"
      },
      "outputs": [
        {
          "data": {
            "text/plain": [
              "ShapiroResult(statistic=0.8147155046463013, pvalue=0.004300223197788)"
            ]
          },
          "execution_count": 11,
          "metadata": {},
          "output_type": "execute_result"
        }
      ],
      "source": [
        "# [For interval and ratio data] Are the samples drawn from a normal distribution?\n",
        "# Shapiro-Wilk test\n",
        "# https://docs.scipy.org/doc/scipy/reference/generated/scipy.stats.shapiro.html\n",
        "scipy.stats.shapiro(x)"
      ]
    },
    {
      "cell_type": "code",
      "execution_count": 12,
      "metadata": {
        "id": "qxuzYJO21vSL"
      },
      "outputs": [
        {
          "ename": "ValueError",
          "evalue": "Must enter at least two input sample vectors.",
          "output_type": "error",
          "traceback": [
            "\u001b[0;31m---------------------------------------------------------------------------\u001b[0m",
            "\u001b[0;31mValueError\u001b[0m                                Traceback (most recent call last)",
            "\u001b[1;32m/home/plaf2000/Documents/Scuola/ETH/5th_sem/hci/colab/hci_statistical_analysis.ipynb Cell 14\u001b[0m in \u001b[0;36m<cell line: 4>\u001b[0;34m()\u001b[0m\n\u001b[1;32m      <a href='vscode-notebook-cell:/home/plaf2000/Documents/Scuola/ETH/5th_sem/hci/colab/hci_statistical_analysis.ipynb#X16sZmlsZQ%3D%3D?line=0'>1</a>\u001b[0m \u001b[39m# [For interval and ratio data] Are the samples drawn from a population with equal variances (i.e., homoscedasticity)\u001b[39;00m\n\u001b[1;32m      <a href='vscode-notebook-cell:/home/plaf2000/Documents/Scuola/ETH/5th_sem/hci/colab/hci_statistical_analysis.ipynb#X16sZmlsZQ%3D%3D?line=1'>2</a>\u001b[0m \u001b[39m# Levene's test\u001b[39;00m\n\u001b[1;32m      <a href='vscode-notebook-cell:/home/plaf2000/Documents/Scuola/ETH/5th_sem/hci/colab/hci_statistical_analysis.ipynb#X16sZmlsZQ%3D%3D?line=2'>3</a>\u001b[0m \u001b[39m# https://docs.scipy.org/doc/scipy/reference/generated/scipy.stats.levene.html\u001b[39;00m\n\u001b[0;32m----> <a href='vscode-notebook-cell:/home/plaf2000/Documents/Scuola/ETH/5th_sem/hci/colab/hci_statistical_analysis.ipynb#X16sZmlsZQ%3D%3D?line=3'>4</a>\u001b[0m scipy\u001b[39m.\u001b[39;49mstats\u001b[39m.\u001b[39;49mlevene(x, proportiontocut\u001b[39m=\u001b[39;49m\u001b[39m0.05\u001b[39;49m)\n",
            "File \u001b[0;32m/usr/lib/python3/dist-packages/scipy/stats/_morestats.py:2559\u001b[0m, in \u001b[0;36mlevene\u001b[0;34m(center, proportiontocut, *args)\u001b[0m\n\u001b[1;32m   2557\u001b[0m k \u001b[39m=\u001b[39m \u001b[39mlen\u001b[39m(args)\n\u001b[1;32m   2558\u001b[0m \u001b[39mif\u001b[39;00m k \u001b[39m<\u001b[39m \u001b[39m2\u001b[39m:\n\u001b[0;32m-> 2559\u001b[0m     \u001b[39mraise\u001b[39;00m \u001b[39mValueError\u001b[39;00m(\u001b[39m\"\u001b[39m\u001b[39mMust enter at least two input sample vectors.\u001b[39m\u001b[39m\"\u001b[39m)\n\u001b[1;32m   2560\u001b[0m \u001b[39m# check for 1d input\u001b[39;00m\n\u001b[1;32m   2561\u001b[0m \u001b[39mfor\u001b[39;00m j \u001b[39min\u001b[39;00m \u001b[39mrange\u001b[39m(k):\n",
            "\u001b[0;31mValueError\u001b[0m: Must enter at least two input sample vectors."
          ]
        }
      ],
      "source": [
        "# [For interval and ratio data] Are the samples drawn from a population with equal variances (i.e., homoscedasticity)\n",
        "# Levene's test\n",
        "# https://docs.scipy.org/doc/scipy/reference/generated/scipy.stats.levene.html\n",
        "scipy.stats.levene(x, proportiontocut=0.05)"
      ]
    },
    {
      "cell_type": "markdown",
      "metadata": {
        "id": "j126UvUNk96H"
      },
      "source": [
        "## SUS test score"
      ]
    },
    {
      "cell_type": "code",
      "execution_count": null,
      "metadata": {
        "colab": {
          "base_uri": "https://localhost:8080/",
          "height": 391
        },
        "id": "JLRSBwfyk9QW",
        "outputId": "b3e0b2fb-cb47-427f-f9ad-42ab84b87a37"
      },
      "outputs": [
        {
          "name": "stdout",
          "output_type": "stream",
          "text": [
            "a Shapiro-Wilk test on SUS test score for interface A has a p-value of: 0.8736745119094849\n",
            "a Shapiro-Wilk test on SUS test score for interface B has a p-value of: 0.9197377562522888\n"
          ]
        },
        {
          "ename": "ValueError",
          "evalue": "ignored",
          "output_type": "error",
          "traceback": [
            "\u001b[0;31m---------------------------------------------------------------------------\u001b[0m",
            "\u001b[0;31mValueError\u001b[0m                                Traceback (most recent call last)",
            "\u001b[0;32m<ipython-input-67-f5e91e27502d>\u001b[0m in \u001b[0;36m<module>\u001b[0;34m\u001b[0m\n\u001b[1;32m      6\u001b[0m \u001b[0;31m# CHeck for homoscedasticity\u001b[0m\u001b[0;34m\u001b[0m\u001b[0;34m\u001b[0m\u001b[0;34m\u001b[0m\u001b[0m\n\u001b[1;32m      7\u001b[0m \u001b[0mx\u001b[0m \u001b[0;34m=\u001b[0m \u001b[0mdf\u001b[0m\u001b[0;34m[\u001b[0m\u001b[0;34m'sus_score_A'\u001b[0m\u001b[0;34m]\u001b[0m\u001b[0;34m\u001b[0m\u001b[0;34m\u001b[0m\u001b[0m\n\u001b[0;32m----> 8\u001b[0;31m \u001b[0mprint\u001b[0m\u001b[0;34m(\u001b[0m\u001b[0;34m'a Levene test on SUS test score for interface A has a p-value of: {}'\u001b[0m\u001b[0;34m.\u001b[0m\u001b[0mformat\u001b[0m\u001b[0;34m(\u001b[0m\u001b[0mscipy\u001b[0m\u001b[0;34m.\u001b[0m\u001b[0mstats\u001b[0m\u001b[0;34m.\u001b[0m\u001b[0mlevene\u001b[0m\u001b[0;34m(\u001b[0m\u001b[0mx\u001b[0m\u001b[0;34m,\u001b[0m \u001b[0mproportiontocut\u001b[0m\u001b[0;34m=\u001b[0m\u001b[0;36m0.05\u001b[0m\u001b[0;34m)\u001b[0m\u001b[0;34m)\u001b[0m\u001b[0;34m)\u001b[0m\u001b[0;34m\u001b[0m\u001b[0;34m\u001b[0m\u001b[0m\n\u001b[0m\u001b[1;32m      9\u001b[0m \u001b[0my\u001b[0m \u001b[0;34m=\u001b[0m \u001b[0mdf\u001b[0m\u001b[0;34m[\u001b[0m\u001b[0;34m'sus_score_B'\u001b[0m\u001b[0;34m]\u001b[0m\u001b[0;34m\u001b[0m\u001b[0;34m\u001b[0m\u001b[0m\n\u001b[1;32m     10\u001b[0m \u001b[0mprint\u001b[0m\u001b[0;34m(\u001b[0m\u001b[0;34m'a Levene test on SUS test score for interface B has a p-value of: {}'\u001b[0m\u001b[0;34m.\u001b[0m\u001b[0mformat\u001b[0m\u001b[0;34m(\u001b[0m\u001b[0mscipy\u001b[0m\u001b[0;34m.\u001b[0m\u001b[0mstats\u001b[0m\u001b[0;34m.\u001b[0m\u001b[0mlevene\u001b[0m\u001b[0;34m(\u001b[0m\u001b[0my\u001b[0m\u001b[0;34m,\u001b[0m \u001b[0mproportiontocut\u001b[0m\u001b[0;34m=\u001b[0m\u001b[0;36m0.05\u001b[0m\u001b[0;34m)\u001b[0m\u001b[0;34m)\u001b[0m\u001b[0;34m)\u001b[0m\u001b[0;34m\u001b[0m\u001b[0;34m\u001b[0m\u001b[0m\n",
            "\u001b[0;32m/usr/local/lib/python3.8/dist-packages/scipy/stats/morestats.py\u001b[0m in \u001b[0;36mlevene\u001b[0;34m(center, proportiontocut, *args)\u001b[0m\n\u001b[1;32m   2556\u001b[0m     \u001b[0mk\u001b[0m \u001b[0;34m=\u001b[0m \u001b[0mlen\u001b[0m\u001b[0;34m(\u001b[0m\u001b[0margs\u001b[0m\u001b[0;34m)\u001b[0m\u001b[0;34m\u001b[0m\u001b[0;34m\u001b[0m\u001b[0m\n\u001b[1;32m   2557\u001b[0m     \u001b[0;32mif\u001b[0m \u001b[0mk\u001b[0m \u001b[0;34m<\u001b[0m \u001b[0;36m2\u001b[0m\u001b[0;34m:\u001b[0m\u001b[0;34m\u001b[0m\u001b[0;34m\u001b[0m\u001b[0m\n\u001b[0;32m-> 2558\u001b[0;31m         \u001b[0;32mraise\u001b[0m \u001b[0mValueError\u001b[0m\u001b[0;34m(\u001b[0m\u001b[0;34m\"Must enter at least two input sample vectors.\"\u001b[0m\u001b[0;34m)\u001b[0m\u001b[0;34m\u001b[0m\u001b[0;34m\u001b[0m\u001b[0m\n\u001b[0m\u001b[1;32m   2559\u001b[0m     \u001b[0;31m# check for 1d input\u001b[0m\u001b[0;34m\u001b[0m\u001b[0;34m\u001b[0m\u001b[0;34m\u001b[0m\u001b[0m\n\u001b[1;32m   2560\u001b[0m     \u001b[0;32mfor\u001b[0m \u001b[0mj\u001b[0m \u001b[0;32min\u001b[0m \u001b[0mrange\u001b[0m\u001b[0;34m(\u001b[0m\u001b[0mk\u001b[0m\u001b[0;34m)\u001b[0m\u001b[0;34m:\u001b[0m\u001b[0;34m\u001b[0m\u001b[0;34m\u001b[0m\u001b[0m\n",
            "\u001b[0;31mValueError\u001b[0m: Must enter at least two input sample vectors."
          ]
        }
      ],
      "source": [
        "# Check for normality\n",
        "x = df['sus_score_A']\n",
        "print('a Shapiro-Wilk test on SUS test score for interface A has a p-value of: {}'.format(scipy.stats.shapiro(x).pvalue))\n",
        "y = df['sus_score_B']\n",
        "print('a Shapiro-Wilk test on SUS test score for interface B has a p-value of: {}'.format(scipy.stats.shapiro(y).pvalue))"
      ]
    },
    {
      "cell_type": "markdown",
      "metadata": {},
      "source": [
        "Partecipants' age"
      ]
    },
    {
      "cell_type": "code",
      "execution_count": 18,
      "metadata": {},
      "outputs": [
        {
          "ename": "SyntaxError",
          "evalue": "invalid decimal literal (2555763080.py, line 2)",
          "output_type": "error",
          "traceback": [
            "\u001b[0;36m  Input \u001b[0;32mIn [18]\u001b[0;36m\u001b[0m\n\u001b[0;31m    print(f\"Participants' mean age deviation: {np.mean(df['user_age']:.2f)}\")\u001b[0m\n\u001b[0m                             ^\u001b[0m\n\u001b[0;31mSyntaxError\u001b[0m\u001b[0;31m:\u001b[0m invalid decimal literal\n"
          ]
        }
      ],
      "source": [
        "print(f\"Participants' age standard deviation: {scipy.stats.tstd(df['user_age']):.2f}\")\n",
        "print(f\"Participants' mean age deviation: {np.mean(df['user_age']):.2f}\")"
      ]
    },
    {
      "cell_type": "code",
      "execution_count": null,
      "metadata": {},
      "outputs": [],
      "source": []
    }
  ],
  "metadata": {
    "colab": {
      "include_colab_link": true,
      "provenance": []
    },
    "kernelspec": {
      "display_name": "Python 3.10.6 64-bit",
      "language": "python",
      "name": "python3"
    },
    "language_info": {
      "codemirror_mode": {
        "name": "ipython",
        "version": 3
      },
      "file_extension": ".py",
      "mimetype": "text/x-python",
      "name": "python",
      "nbconvert_exporter": "python",
      "pygments_lexer": "ipython3",
      "version": "3.10.6"
    },
    "vscode": {
      "interpreter": {
        "hash": "31f2aee4e71d21fbe5cf8b01ff0e069b9275f58929596ceb00d14d90e3e16cd6"
      }
    }
  },
  "nbformat": 4,
  "nbformat_minor": 0
}
