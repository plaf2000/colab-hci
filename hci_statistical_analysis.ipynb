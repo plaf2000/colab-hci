{
  "nbformat": 4,
  "nbformat_minor": 0,
  "metadata": {
    "colab": {
      "provenance": [],
      "include_colab_link": true
    },
    "kernelspec": {
      "name": "python3",
      "display_name": "Python 3"
    },
    "language_info": {
      "name": "python"
    }
  },
  "cells": [
    {
      "cell_type": "markdown",
      "metadata": {
        "id": "view-in-github",
        "colab_type": "text"
      },
      "source": [
        "<a href=\"https://colab.research.google.com/github/plaf2000/colab-hci/blob/main/hci_statistical_analysis.ipynb\" target=\"_parent\"><img src=\"https://colab.research.google.com/assets/colab-badge.svg\" alt=\"Open In Colab\"/></a>"
      ]
    },
    {
      "cell_type": "code",
      "execution_count": null,
      "metadata": {
        "id": "T5n4H3v9059U"
      },
      "outputs": [],
      "source": [
        "import matplotlib.pyplot as plt\n",
        "import scipy\n",
        "import numpy as np\n",
        "import pandas as pd\n",
        "import seaborn as sns\n",
        "!pip install tikzplotlib\n",
        "import tikzplotlib as tplt"
      ]
    },
    {
      "cell_type": "code",
      "source": [
        "# TODO: Read data\n",
        "df = pd.read_csv('hci_user_study_raw.csv')  \n",
        "df['sus_score_A'], df['sus_score_B'] = pd.to_numeric(df['sus_score_A']), pd.to_numeric(df['sus_score_B'])\n",
        "# Data for statistical analysis\n",
        "df['Total clicks Interface A'] = df['clicks_A1'] + df['clicks_A2']\n",
        "df['Total clicks Interface B'] = df['clicks_B1'] + df['clicks_B2']\n",
        "\n",
        "df['Tasks completion time Interface A'] = df['time_A1'] + df['time_A2']\n",
        "df['Tasks completion time Interface B'] = df['time_B1'] + df['time_B2']\n",
        "\n",
        "variables = ['Total clicks','Tasks completion time','SUS Score']\n",
        "data = df[['Total clicks Interface A','Total clicks Interface B','Tasks completion time Interface A','Tasks completion time Interface B','sus_score_A','sus_score_B']].rename(columns={'sus_score_A':'SUS Score Interface A','sus_score_B':'SUS Score Interface B'})\n",
        "df"
      ],
      "metadata": {
        "id": "cndrCkYc1hwc"
      },
      "execution_count": null,
      "outputs": []
    },
    {
      "cell_type": "markdown",
      "source": [
        "# Demographic visualization"
      ],
      "metadata": {
        "id": "AMYOVDfhvvuT"
      }
    },
    {
      "cell_type": "code",
      "source": [
        "def pie_tikz(col):\n",
        "  values = col.value_counts()\n",
        "  categories = values.index\n",
        "  print(\"\\pie{\")\n",
        "  rows = []\n",
        "  tot = sum(values)\n",
        "  for c in categories:\n",
        "    perc = values[c]/tot*100\n",
        "    cname = f\"{c}\".replace(\"<\",\"$<$\").replace(\">\",\"$>$\")\n",
        "    rows.append(f\"  {perc}/{cname},\")\n",
        "  for r in rows:\n",
        "    if r == rows[-1]:\n",
        "      print(r[:-1])\n",
        "    else:\n",
        "      print(r)\n",
        "  print(\"}\")"
      ],
      "metadata": {
        "id": "craJGepuiy2c"
      },
      "execution_count": null,
      "outputs": []
    },
    {
      "cell_type": "code",
      "source": [
        "fig, ax = plt.subplots(nrows=1, ncols=2, figsize=(16, 10))\n",
        "# Age\n",
        "# ax[0].pie(df['user_age'].value_counts(), labels=df['user_age'].value_counts().index, autopct='%1.1f%%')\n",
        "ax[0].bar(height=df['user_age'].value_counts(), x=df['user_age'].value_counts().index)\n",
        "# df['user_age'].str.sum().plot(kind=\"bar\")\n",
        "ax[0].set_title('Participants\\' Age')\n",
        "ax[0].text(-0.7, -1.25, f\"Participants' age mean: {np.mean(df['user_age']):.2f}\")\n",
        "ax[0].text(-0.7, -1.35, f\"Participants' age standard deviation: {scipy.stats.tstd(df['user_age']):.2f}\")\n",
        "# Field of study\n",
        "ax[1].pie(df['field_of_study'].value_counts(), labels=df['field_of_study'].value_counts().index, autopct='%1.1f%%')\n",
        "ax[1].set_title('Participants\\' Field of Study')\n",
        "fig.tight_layout()\n",
        "print(f\"Participants' age standard deviation: {scipy.stats.tstd(df['user_age']):.2f}\")\n",
        "print(f\"Participants' age mean: {np.mean(df['user_age']):.2f}\")\n"
      ],
      "metadata": {
        "id": "8kJHrGaIn2QG"
      },
      "execution_count": null,
      "outputs": []
    },
    {
      "cell_type": "code",
      "source": [
        "pts = df[\"user_age\"].value_counts()\n",
        "f, (ax2, ax) = plt.subplots(1, 2, sharey=True)\n",
        "\n",
        "# plot the same data on both axes\n",
        "ax.bar(height=df['user_age'].value_counts(), x=df['user_age'].value_counts().index)\n",
        "ax2.bar(height=df['user_age'].value_counts(), x=df['user_age'].value_counts().index)\n",
        "\n",
        "# zoom-in / limit the view to different portions of the data\n",
        "ax.set_xlim(52, 60)  # outliers only\n",
        "ax2.set_xlim(15, 25)  # most of the data\n",
        "\n",
        "# hide the spines between ax and ax2\n",
        "ax.spines['left'].set_visible(False)\n",
        "ax2.spines['right'].set_visible(False)\n",
        "ax.yaxis.tick_right()\n",
        "ax2.yaxis.tick_left()\n",
        "f.text(0.5, 0.04, 'Age', ha='center')\n",
        "ax2.set_ylabel(\"Number of participants\")\n",
        "# ax2.tick_params(labelleft=False)  # don't put tick labels at the top\n",
        "# ax2.xaxis.tick_left()\n",
        "\n",
        "\n",
        "d = .015  # how big to make the diagonal lines in axes coordinates\n",
        "# arguments to pass to plot, just so we don't keep repeating them\n",
        "kwargs = dict(transform=ax.transAxes, color='k', clip_on=False)\n",
        "ax.plot((-d, +d), (1 - d, 1 + d), **kwargs)        # top-left diagonal\n",
        "ax.plot((-d, +d), (-d, +d), **kwargs)  # bottom-right diagonal\n",
        "\n",
        "kwargs.update(transform=ax2.transAxes)  # switch to the bottom axes\n",
        "ax2.plot((1-d, 1+d), (- d, + d), **kwargs)  # top-left diagonal\n",
        "ax2.plot((1 - d, 1 + d), (1 - d, 1 + d), **kwargs)  # bottom-left diagonal\n",
        "\n",
        "# What's cool about this is that now if we vary the distance between\n",
        "# ax and ax2 via f.subplots_adjust(hspace=...) or plt.subplot_tool(),\n",
        "# the diagonal lines will move accordingly, and stay right at the tips\n",
        "# of the spines they are 'breaking'\n",
        "\n",
        "# plt.show()\n",
        "tplt.save(\"/content/user_age.tex\")\n",
        "\n"
      ],
      "metadata": {
        "id": "SHthZX8k1UTQ"
      },
      "execution_count": null,
      "outputs": []
    },
    {
      "cell_type": "code",
      "source": [
        "plt.bar(height=df['user_age'].value_counts(), x=df['user_age'].value_counts().index)\n",
        "plt.xlabel(\"Age\")\n",
        "plt.ylabel(\"Number of participants\")\n",
        "tplt.save(\"/content/user_age.tex\")\n",
        "\n",
        "plt.close()\n",
        "\n",
        "plt.pie(df['field_of_study'].value_counts(), labels=df['field_of_study'].value_counts().index, autopct='%1.1f%%')\n",
        "tplt.save(\"/content/field_of_study.tex\")"
      ],
      "metadata": {
        "id": "s5vVEhR6sFlL"
      },
      "execution_count": null,
      "outputs": []
    },
    {
      "cell_type": "code",
      "source": [
        "fig, ax = plt.subplots(nrows=1, ncols=3, figsize=(16, 10))\n",
        "# Coding experience\n",
        "ax[0].pie(df['coding_experience'].value_counts(), labels=df['coding_experience'].value_counts().index, autopct='%1.1f%%')\n",
        "ax[0].set_title('Participants\\' Coding Experience')\n",
        "# Coding Frequency\n",
        "ax[1].pie(df['coding_frequency'].value_counts(), labels=df['coding_frequency'].value_counts().index, autopct='%1.1f%%')\n",
        "ax[1].set_title('Participants\\' Coding Frequency')\n",
        "# Coding Languages\n",
        "languages = df['coding_languages'].str.get_dummies(sep=', ').sum()\n",
        "languages.plot(kind='bar')\n",
        "ax[2].set_title('Participants\\' main Coding Languages')\n",
        "fig.tight_layout()\n",
        "\n"
      ],
      "metadata": {
        "id": "FxVXalIoD-_Z"
      },
      "execution_count": null,
      "outputs": []
    },
    {
      "cell_type": "code",
      "source": [
        "print(f\"{'-'*20} Tikz pies {'-'*20}\")\n",
        "pie_tikz(df['user_age'])\n",
        "pie_tikz(df['field_of_study'])\n",
        "pie_tikz(df['coding_experience'])\n",
        "pie_tikz(df['coding_frequency'])\n",
        "\n"
      ],
      "metadata": {
        "id": "L0cJoSfGntox"
      },
      "execution_count": null,
      "outputs": []
    },
    {
      "cell_type": "markdown",
      "source": [
        "# Data visualization"
      ],
      "metadata": {
        "id": "OG42IxDjyol7"
      }
    },
    {
      "cell_type": "code",
      "source": [
        "# Preferred interface\n",
        "#df.rename(columns = {'preferred_interface':'Preferred Interface'}).plot.pie(y='Preferred Interface', figsize=(5,5))\n",
        "plt.pie(df['preferred_interface'].value_counts(), labels=df['preferred_interface'].value_counts().index, autopct='%1.1f%%')\n",
        "#coding = df.rename(columns = {'coding_experience':'Coding Experience', 'coding_languages':'Coding Languages', 'coding_frequency':'Coding Frequency'})[['Coding Experience', 'Coding Languages', 'Coding Frequency']]\n",
        "#coding.plot.pie(subplots=True)"
      ],
      "metadata": {
        "id": "5xTnskdL0n86"
      },
      "execution_count": null,
      "outputs": []
    },
    {
      "cell_type": "code",
      "source": [
        "# Sus score\n",
        "x = df['sus_score_A']\n",
        "f, (ax_box, ax_hist) = plt.subplots(2, sharex=True, gridspec_kw={\"height_ratios\": (.15, .85)})\n",
        "\n",
        "sns.boxplot(x=x, ax=ax_box)\n",
        "sns.histplot(x=x, bins=12, kde=True, stat='count', ax=ax_hist)\n",
        "\n",
        "ax_box.set(yticks=[],xticks=[],xlabel=None)\n",
        "ax_hist.set(xlabel='Score')\n",
        "sns.despine(ax=ax_hist)\n",
        "sns.despine(ax=ax_box, left=True)\n",
        "\n",
        "tplt.save(\"/content/sus_score_A.tex\")\n",
        "\n",
        "\n",
        "x = df['sus_score_B'].rename({'sus_score_B':'SUS Score Interface B'})\n",
        "f, (ax_box, ax_hist) = plt.subplots(2, sharex=True, gridspec_kw={\"height_ratios\": (.15, .85)})\n",
        "\n",
        "sns.boxplot(x=x, ax=ax_box)\n",
        "sns.histplot(x=x, bins=12, kde=True, stat='count', ax=ax_hist)\n",
        "\n",
        "ax_box.set(yticks=[],xticks=[],xlabel=None)\n",
        "ax_hist.set(xlabel='Score')\n",
        "sns.despine(ax=ax_hist)\n",
        "sns.despine(ax=ax_box, left=True)\n",
        "\n",
        "tplt.save(\"/content/sus_score_B.tex\")"
      ],
      "metadata": {
        "id": "zKdtLTMZylNN"
      },
      "execution_count": null,
      "outputs": []
    },
    {
      "cell_type": "code",
      "source": [
        "fig, ax = plt.subplots(nrows=2, ncols=2, figsize=(16, 10))\n",
        "# Number of clicks\n",
        "bins = np.linspace(30, 130, 10) # Range of clicks\n",
        "# Task 1\n",
        "x = df['clicks_A1']\n",
        "y = df['clicks_B1']\n",
        "ax[0,0].hist([x, y], color=['r','b'], label=['Interface A', 'Interface B'])\n",
        "ax[0,0].set_ylabel('Amount of users')\n",
        "ax[0,0].set_xlabel('Number of clicks')\n",
        "ax[0,0].legend(loc='upper right')\n",
        "ax[0,0].set_title('Number of mouse clicks - Task 1')\n",
        "# Task 2\n",
        "x = df['clicks_A2']\n",
        "y = df['clicks_B2']\n",
        "ax[0,1].hist([x, y], color=['r','b'], label=['Interface A', 'Interface B'])\n",
        "ax[0,1].set_ylabel('Amount of users')\n",
        "ax[0,1].set_xlabel('Number of clicks')\n",
        "ax[0,1].legend(loc='upper right')\n",
        "ax[0,1].set_title('Number of mouse clicks - Task 2')\n",
        "# Time \n",
        "bins = np.linspace(60, 400, 10) # Range of time\n",
        "# Task 1\n",
        "x = df['time_A1']\n",
        "y = df['time_B1']\n",
        "ax[1,0].hist([x, y], color=['r','b'], label=['Interface A', 'Interface B'])\n",
        "ax[1,0].set_ylabel('Amount of users')\n",
        "ax[1,0].set_xlabel('Time (in seconds)')\n",
        "ax[1,0].legend(loc='upper right')\n",
        "ax[1,0].set_title('Time taken to complete Task 1')\n",
        "\n",
        "bins = np.linspace(60, 180, 10) # Range of time\n",
        "# Task 2\n",
        "x = df['time_A2']\n",
        "y = df['time_B2']\n",
        "ax[1,1].hist([x, y], color=['r','b'], label=['Interface A', 'Interface B'])\n",
        "ax[1,1].set_ylabel('Amount of users')\n",
        "ax[1,1].set_xlabel('Time (in seconds)')\n",
        "ax[1,1].legend(loc='upper right')\n",
        "ax[1,1].set_title('Time taken to complete Task 2')\n",
        "\n",
        "fig.tight_layout()"
      ],
      "metadata": {
        "id": "7Y-er3lbOTTK"
      },
      "execution_count": null,
      "outputs": []
    },
    {
      "cell_type": "code",
      "source": [
        "#list of variables to test\n",
        "fig, ax = plt.subplots(nrows=3, ncols=len(variables), figsize=(20,20))\n",
        "\n",
        "print('-'*30)\n",
        "for i in range(len(variables)):\n",
        "  ''' for j in ['Interface A', 'Interface B']:\n",
        "    variable_stats  = data[variables[i] + ' ' + j].agg(['mean', 'std', 'sem'])\n",
        "    variable_stats['ci95_hi'] = variable_stats['mean'] + 1.96* variable_stats['sem']\n",
        "    variable_stats['ci95_lo'] = variable_stats['mean'] - 1.96* variable_stats['sem']\n",
        "    y_error = (variable_stats['ci95_hi'] - variable_stats['ci95_lo'])/2\n",
        "    print(\"Statistics on \"+ variables[i] + ' ' + j)\n",
        "    print(variable_stats)\n",
        "    print('-'*30) '''\n",
        "\n",
        "  temp = data[[variables[i] + ' ' + j for j in ['Interface A', 'Interface B']]].rename(columns={(variables[i])+' '+'Interface A':'Interface A',(variables[i])+' '+'Interface B':'Interface B'})\n",
        "  mean = temp.mean(axis = 0)\n",
        "  tstd = scipy.stats.tstd(temp, axis=0)\n",
        "  print(variables[i],mean,tstd)\n",
        "  sem = temp.sem(axis = 0)\n",
        "  y_error = ((mean + 1.96 * sem) - (mean - 1.96 * sem))/2\n",
        "  mean.plot(kind='barh',y = 'mean', legend= False, title=\"Mean and CI 95% of the \"+variables[i].lower(),xerr=y_error, ax=ax[0,i])\n",
        "    \n",
        "  x, y = data[variables[i] + ' ' + 'Interface A'], data[variables[i] + ' ' + 'Interface B']\n",
        "  ax[1,i].hist([x, y], label=['Interface A', 'Interface B'])\n",
        "  ax[1,i].set_ylabel('Amount of users')\n",
        "  ax[1,i].set_xlabel(variables[i])\n",
        "  ax[1,i].legend(loc='upper right')\n",
        "  ax[1,i].set_title(variables[i])\n",
        "\n",
        "  x = data[variables[i] + ' ' + 'Interface A'] + data[variables[i] + ' ' + 'Interface B']\n",
        "  ax[2,i].hist(x)\n",
        "  ax[2,i].set_ylabel('Amount of users')\n",
        "  ax[2,i].set_xlabel(variables[i])\n",
        "  ax[2,i].legend(loc='upper right')\n",
        "  ax[2,i].set_title(variables[i] + ' distribution')\n",
        "\n",
        "fig.tight_layout()\n"
      ],
      "metadata": {
        "id": "CxYt8bseRkoF"
      },
      "execution_count": null,
      "outputs": []
    },
    {
      "cell_type": "markdown",
      "source": [
        "# Statistical Analysis"
      ],
      "metadata": {
        "id": "wHe1HDnHv0EU"
      }
    },
    {
      "cell_type": "code",
      "source": [
        "# [For interval and ratio data] Are the samples drawn from a normal distribution?\n",
        "# Shapiro-Wilk test\n",
        "# https://docs.scipy.org/doc/scipy/reference/generated/scipy.stats.shapiro.html\n",
        "# scipy.stats.shapiro(x)"
      ],
      "metadata": {
        "id": "kihyBoXm1msr"
      },
      "execution_count": null,
      "outputs": []
    },
    {
      "cell_type": "code",
      "source": [
        "# [For interval and ratio data] Are the samples drawn from a population with equal variances (i.e., homoscedasticity)\n",
        "# Levene's test\n",
        "# https://docs.scipy.org/doc/scipy/reference/generated/scipy.stats.levene.html\n",
        "# scipy.stats.levene(x, proportiontocut=0.05)"
      ],
      "metadata": {
        "id": "qxuzYJO21vSL"
      },
      "execution_count": null,
      "outputs": []
    },
    {
      "cell_type": "code",
      "source": [
        "\n",
        "a = 0.05 #significance level\n",
        "shapiro_tests = []\n",
        "levene_tests = []\n",
        "final_tests = []\n",
        "print('-'*100)\n",
        "for v in variables:\n",
        "    x = data[v + ' ' + 'Interface A'] + data[v + ' ' + 'Interface B']\n",
        "    shapiro_tests.append(scipy.stats.shapiro(x))\n",
        "    levene_tests.append(scipy.stats.levene(data[v + ' ' + 'Interface A'],data[v + ' ' + 'Interface B']))\n",
        "for i, x in enumerate(variables):\n",
        "    print(x+':\\n\\tShapiro-Wilk p-value: '+ str(shapiro_tests[i].pvalue)+'\\tLevene p-value: '+str(levene_tests[i].pvalue)+'\\n\\t', end=\"\")\n",
        "\n",
        "    if shapiro_tests[i].pvalue<0.05 or levene_tests[i].pvalue<0.05:\n",
        "        print('Running Wilcoxon signed rank test on ' + variables[i]  + '\\n\\t\\t Wilcoxon p-value: ', end='')\n",
        "        final_tests.append(scipy.stats.wilcoxon(data[x + ' ' + 'Interface A'], data[x + ' ' + 'Interface B']))\n",
        "    else:\n",
        "        print('Running Paired t-test test on ' + variables[i]  + '\\n\\t\\t Paired T-test p-value: ', end='')\n",
        "        final_tests.append(scipy.stats.ttest_rel(data[x + ' ' + 'Interface A'], data[x + ' ' + 'Interface B']))\n",
        "    print(final_tests[i].pvalue)\n",
        "\n",
        "    if final_tests[i].pvalue > a:\n",
        "        print(\"Result: Hypothesis not rejected on \" + x)\n",
        "    else:\n",
        "        print(\"Result: Hypothesis rejected on \" + x)\n",
        "    print('-'*100)"
      ],
      "metadata": {
        "id": "GFVtt-z0f8aM"
      },
      "execution_count": null,
      "outputs": []
    }
  ]
}